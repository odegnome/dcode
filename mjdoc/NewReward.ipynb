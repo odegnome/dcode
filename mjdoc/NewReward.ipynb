{
 "cells": [
  {
   "cell_type": "code",
   "execution_count": 2,
   "id": "acec20b1-468a-474c-a75f-e35df2830e18",
   "metadata": {},
   "outputs": [],
   "source": [
    "import matplotlib.pyplot as plt\n",
    "import numpy as np"
   ]
  },
  {
   "cell_type": "code",
   "execution_count": 15,
   "id": "ff19a14f-b64b-475c-b62f-4eb7f2d55cf9",
   "metadata": {},
   "outputs": [],
   "source": [
    "def reward1():\n",
    "    result = []\n",
    "    count = 0\n",
    "    counts = []\n",
    "    while count < 8.881:\n",
    "        counts.append(count)\n",
    "        result.append(count if count<=0.740 else -count)\n",
    "        count += 0.1\n",
    "    return counts, result"
   ]
  },
  {
   "cell_type": "code",
   "execution_count": 80,
   "id": "5f615b2c-d362-4f56-ad6e-f000eb8e7677",
   "metadata": {},
   "outputs": [
    {
     "data": {
      "image/png": "[encoded data removed]",
      "text/plain": [
       "<Figure size 360x244.8 with 1 Axes>"
      ]
     },
     "metadata": {
      "needs_background": "light"
     },
     "output_type": "display_data"
    }
   ],
   "source": [
    "x, y = reward1()\n",
    "fig, ax = plt.subplots(1,1, figsize=(5,3.4))\n",
    "ax.plot(x,y, 'b-.', label='reward system')\n",
    "ax.annotate(r'$\\frac{\\pi}{6}\\approx{0.740}$', xy=(0.740, 0), xycoords='data',\n",
    "            xytext=(20, 10), textcoords='offset points',\n",
    "            arrowprops=dict(arrowstyle='->'),\n",
    "            horizontalalignment='left', verticalalignment='bottom',\n",
    "            fontsize=15)\n",
    "\n",
    "ax.spines['left'].set_position(('data', 0.0))\n",
    "ax.spines['bottom'].set_position(('data', 0.0))\n",
    "ax.spines['right'].set_color('none')\n",
    "ax.spines['top'].set_color('none')\n",
    "ax.xaxis.set_ticks_position('bottom')\n",
    "ax.yaxis.set_ticks_position('left')\n",
    "\n",
    "ax.set_xlabel('norm value')\n",
    "ax.set_ylabel('reward')\n",
    "ax.legend()\n",
    "plt.show()"
   ]
  },
  {
   "cell_type": "code",
   "execution_count": null,
   "id": "fee58bf6-7a12-460e-b9c0-6b8b84a061dc",
   "metadata": {},
   "outputs": [],
   "source": []
  }
 ],
 "metadata": {
  "kernelspec": {
   "display_name": "Diss",
   "language": "python",
   "name": "diss"
  },
  "language_info": {
   "codemirror_mode": {
    "name": "ipython",
    "version": 3
   },
   "file_extension": ".py",
   "mimetype": "text/x-python",
   "name": "python",
   "nbconvert_exporter": "python",
   "pygments_lexer": "ipython3",
   "version": "3.8.9"
  }
 },
 "nbformat": 4,
 "nbformat_minor": 5
}
